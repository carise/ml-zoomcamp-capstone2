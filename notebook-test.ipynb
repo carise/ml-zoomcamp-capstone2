{
 "cells": [
  {
   "cell_type": "markdown",
   "id": "aa0210f6-cf87-4280-a822-34466bae7463",
   "metadata": {},
   "source": [
    "# Test model import and inference"
   ]
  },
  {
   "cell_type": "code",
   "execution_count": 2,
   "id": "c443ddb6-ffb1-4c39-a1da-ffc417f317a1",
   "metadata": {},
   "outputs": [],
   "source": [
    "import tensorflow.lite as tflite\n",
    "from keras_image_helper import create_preprocessor"
   ]
  },
  {
   "cell_type": "code",
   "execution_count": 3,
   "id": "b8f6ddb0-f061-415f-9b4a-446d0fe1032c",
   "metadata": {},
   "outputs": [
    {
     "name": "stderr",
     "output_type": "stream",
     "text": [
      "INFO: Created TensorFlow Lite XNNPACK delegate for CPU.\n"
     ]
    }
   ],
   "source": [
    "interpreter = tflite.Interpreter(model_path='model.tflite')\n",
    "interpreter.allocate_tensors()\n",
    "\n",
    "input_index = interpreter.get_input_details()[0]['index']\n",
    "output_index = interpreter.get_output_details()[0]['index']"
   ]
  },
  {
   "cell_type": "code",
   "execution_count": 14,
   "id": "9ef2aab9-4d0b-4f60-89c0-67591cf3a774",
   "metadata": {},
   "outputs": [],
   "source": [
    "preprocessor = create_preprocessor('resnet50', target_size=(150, 150))"
   ]
  },
  {
   "cell_type": "code",
   "execution_count": 15,
   "id": "3ef6f2dc-f636-407d-8b24-ef535d48be37",
   "metadata": {},
   "outputs": [],
   "source": [
    "classes = [\"octopus\", \"otter\", \"penguin\", \"starfish\"]"
   ]
  },
  {
   "cell_type": "code",
   "execution_count": 19,
   "id": "302f15cc-f1fd-4bc4-8786-a3deefefaf9d",
   "metadata": {},
   "outputs": [],
   "source": [
    "def predict(url):\n",
    "    X = preprocessor.from_url(url)\n",
    "\n",
    "    interpreter.set_tensor(input_index, X)\n",
    "    interpreter.invoke()\n",
    "    preds = interpreter.get_tensor(output_index)\n",
    "\n",
    "    float_predictions = preds[0].tolist()\n",
    "\n",
    "    return dict(zip(classes, float_predictions))"
   ]
  },
  {
   "cell_type": "code",
   "execution_count": 33,
   "id": "37918356-7137-407e-ba2c-cd715cb926bc",
   "metadata": {},
   "outputs": [],
   "source": [
    "predict_urls = {\n",
    "    \"octopus\": [\n",
    "        \"https://www.nwf.org/-/media/NEW-WEBSITE/Shared-Folder/Wildlife/Invertebrates/invertebrate_octopus_600x300.jpg\",\n",
    "    ],\n",
    "    \"otter\": [\n",
    "        \"https://i0.wp.com/www.sciencenews.org/wp-content/uploads/2021/07/070721_JC_otter-muscles_feat.jpg\",\n",
    "    ],\n",
    "    \"penguin\": [\n",
    "        \"https://www.akronzoo.org/sites/default/files/styles/square_large/public/assets/animals/Humboldt-penguin-main.png?h=00546c34&itok=9w0TbWc1\",\n",
    "        \"https://media.zenfs.com/en/the_huffington_post_584/38dad8668fcbfa9be33e724925aa3d69\",\n",
    "        \"https://encrypted-tbn0.gstatic.com/images?q=tbn:ANd9GcTo23wk4-jW_vyJz1jMDqEmJUYGf-2lwJa8iA&usqp=CAU\",\n",
    "    ],\n",
    "    \"starfish\": [\n",
    "        \"https://encrypted-tbn0.gstatic.com/images?q=tbn:ANd9GcTPcrj_1LBmyDIuxTJ_ruyF2sjAFh4Z4LtiEA&usqp=CAU\",\n",
    "        \"data:image/jpeg;base64,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\",\n",
    "        \"https://encrypted-tbn0.gstatic.com/images?q=tbn:ANd9GcTO1OyUpJxKQqJhi_jmB4jH4ZJWJMItB1yWyw&usqp=CAU\",\n",
    "    ],\n",
    "}"
   ]
  },
  {
   "cell_type": "code",
   "execution_count": 34,
   "id": "6f5561e9-ca06-4fa0-8dfc-442e6d67d102",
   "metadata": {},
   "outputs": [
    {
     "name": "stdout",
     "output_type": "stream",
     "text": [
      "\n",
      "cat='octopus'\n",
      "{'octopus': 0.9990772008895874, 'otter': 4.3497703217099115e-08, 'penguin': 5.916595910093747e-06, 'starfish': 0.0009168002870865166}\n",
      "\n",
      "cat='otter'\n",
      "{'octopus': 1.3868144480011502e-11, 'otter': 1.0, 'penguin': 1.868817323114058e-10, 'starfish': 1.1896337186829628e-14}\n",
      "\n",
      "cat='penguin'\n",
      "{'octopus': 0.8345603346824646, 'otter': 1.9081003301835153e-06, 'penguin': 0.16543364524841309, 'starfish': 4.165410246059764e-06}\n",
      "{'octopus': 0.00031490836408920586, 'otter': 3.4890681455124195e-09, 'penguin': 0.9996850490570068, 'starfish': 1.474418382940712e-07}\n",
      "{'octopus': 0.025767182931303978, 'otter': 1.8666324308469484e-07, 'penguin': 0.9742289185523987, 'starfish': 3.6677597563539166e-06}\n",
      "\n",
      "cat='starfish'\n",
      "{'octopus': 0.8109579086303711, 'otter': 4.327380467850084e-11, 'penguin': 0.00023934344062581658, 'starfish': 0.18880273401737213}\n",
      "{'octopus': 0.00025122941588051617, 'otter': 8.449605598537246e-11, 'penguin': 1.701968788125896e-09, 'starfish': 0.9997487664222717}\n",
      "{'octopus': 6.4534351622569375e-06, 'otter': 9.24361065121615e-13, 'penguin': 2.458249099071552e-12, 'starfish': 0.9999935626983643}\n"
     ]
    }
   ],
   "source": [
    "for cat, urls in predict_urls.items():\n",
    "    print(f\"\\n{cat=}\")\n",
    "    for url in urls:\n",
    "        print(predict(url))"
   ]
  },
  {
   "cell_type": "raw",
   "id": "4c733611-9309-4b3c-8c7f-918f0ad67184",
   "metadata": {},
   "source": []
  }
 ],
 "metadata": {
  "kernelspec": {
   "display_name": "Python 3 (ipykernel)",
   "language": "python",
   "name": "python3"
  },
  "language_info": {
   "codemirror_mode": {
    "name": "ipython",
    "version": 3
   },
   "file_extension": ".py",
   "mimetype": "text/x-python",
   "name": "python",
   "nbconvert_exporter": "python",
   "pygments_lexer": "ipython3",
   "version": "3.11.7"
  }
 },
 "nbformat": 4,
 "nbformat_minor": 5
}
